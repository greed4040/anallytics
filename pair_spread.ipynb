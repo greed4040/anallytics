{
 "cells": [
  {
   "cell_type": "code",
   "execution_count": 1,
   "metadata": {},
   "outputs": [],
   "source": [
    "import requests\n",
    "import os\n",
    "def get_qts(sym):\n",
    "    #print(os.environ)\n",
    "    api_key=os.environ['alphavantage_key']\n",
    "    p = {\"http\":\"http://127.0.0.1:8118\", \"https\": \"http://127.0.0.1:8118\",}\n",
    "    url=\"https://www.alphavantage.co/query?function=TIME_SERIES_DAILY&symbol={}&outputsize=full&apikey={}\".format(sym, api_key)\n",
    "    r = requests.get(url, proxies=p)\n",
    "    d=r.json()\n",
    "    return d\n",
    "    \n",
    "intel=get_qts(\"INTC\")\n",
    "amd=get_qts(\"AMD\")"
   ]
  },
  {
   "cell_type": "code",
   "execution_count": 2,
   "metadata": {},
   "outputs": [
    {
     "name": "stdout",
     "output_type": "stream",
     "text": [
      "5216 5216 True\n"
     ]
    }
   ],
   "source": [
    "int_ts=intel['Time Series (Daily)']\n",
    "amd_ts=amd['Time Series (Daily)']\n",
    "\n",
    "keys_list_amd=[]\n",
    "keys_list_intl=[]\n",
    "\n",
    "for key in int_ts.keys(): keys_list_intl.append(key)\n",
    "for key in amd_ts.keys(): keys_list_amd.append(key)\n",
    "print(len(keys_list_amd), len(keys_list_intl), keys_list_amd==keys_list_intl)\n",
    "arr=[]\n",
    "for key in keys_list_amd:\n",
    "    rec= [key, int_ts[key]['4. close'], amd_ts[key]['4. close']]\n",
    "    arr.append(rec)"
   ]
  },
  {
   "cell_type": "code",
   "execution_count": 3,
   "metadata": {},
   "outputs": [
    {
     "data": {
      "text/html": [
       "<div>\n",
       "<style scoped>\n",
       "    .dataframe tbody tr th:only-of-type {\n",
       "        vertical-align: middle;\n",
       "    }\n",
       "\n",
       "    .dataframe tbody tr th {\n",
       "        vertical-align: top;\n",
       "    }\n",
       "\n",
       "    .dataframe thead th {\n",
       "        text-align: right;\n",
       "    }\n",
       "</style>\n",
       "<table border=\"1\" class=\"dataframe\">\n",
       "  <thead>\n",
       "    <tr style=\"text-align: right;\">\n",
       "      <th></th>\n",
       "      <th>dt</th>\n",
       "      <th>int</th>\n",
       "      <th>amd</th>\n",
       "      <th>int_m</th>\n",
       "      <th>amd_m</th>\n",
       "      <th>diff_w</th>\n",
       "    </tr>\n",
       "  </thead>\n",
       "  <tbody>\n",
       "    <tr>\n",
       "      <th>0</th>\n",
       "      <td>2020-07-24</td>\n",
       "      <td>50.59</td>\n",
       "      <td>69.40</td>\n",
       "      <td>1000.000000</td>\n",
       "      <td>1000.000000</td>\n",
       "      <td>0.000000</td>\n",
       "    </tr>\n",
       "    <tr>\n",
       "      <th>1</th>\n",
       "      <td>2020-07-23</td>\n",
       "      <td>60.40</td>\n",
       "      <td>59.57</td>\n",
       "      <td>1193.911840</td>\n",
       "      <td>858.357349</td>\n",
       "      <td>335.554492</td>\n",
       "    </tr>\n",
       "    <tr>\n",
       "      <th>2</th>\n",
       "      <td>2020-07-22</td>\n",
       "      <td>61.05</td>\n",
       "      <td>61.79</td>\n",
       "      <td>1206.760229</td>\n",
       "      <td>890.345821</td>\n",
       "      <td>316.414408</td>\n",
       "    </tr>\n",
       "    <tr>\n",
       "      <th>3</th>\n",
       "      <td>2020-07-21</td>\n",
       "      <td>60.70</td>\n",
       "      <td>57.00</td>\n",
       "      <td>1199.841866</td>\n",
       "      <td>821.325648</td>\n",
       "      <td>378.516218</td>\n",
       "    </tr>\n",
       "    <tr>\n",
       "      <th>4</th>\n",
       "      <td>2020-07-20</td>\n",
       "      <td>61.15</td>\n",
       "      <td>57.46</td>\n",
       "      <td>1208.736905</td>\n",
       "      <td>827.953890</td>\n",
       "      <td>380.783014</td>\n",
       "    </tr>\n",
       "  </tbody>\n",
       "</table>\n",
       "</div>"
      ],
      "text/plain": [
       "           dt    int    amd        int_m        amd_m      diff_w\n",
       "0  2020-07-24  50.59  69.40  1000.000000  1000.000000    0.000000\n",
       "1  2020-07-23  60.40  59.57  1193.911840   858.357349  335.554492\n",
       "2  2020-07-22  61.05  61.79  1206.760229   890.345821  316.414408\n",
       "3  2020-07-21  60.70  57.00  1199.841866   821.325648  378.516218\n",
       "4  2020-07-20  61.15  57.46  1208.736905   827.953890  380.783014"
      ]
     },
     "execution_count": 3,
     "metadata": {},
     "output_type": "execute_result"
    }
   ],
   "source": [
    "import pandas as pd\n",
    "\n",
    "df=pd.DataFrame(arr)\n",
    "df.columns=['dt','int','amd']\n",
    "df=df.astype({'dt':str, \"int\": float, \"amd\": float})\n",
    "init_st=df.iloc[0]\n",
    "\n",
    "int_q=1000/init_st['int']\n",
    "amd_q=1000/init_st['amd']\n",
    "\n",
    "\n",
    "df['int_m']=df['int']*int_q\n",
    "df['amd_m']=df['amd']*amd_q\n",
    "df['diff_w']=df['int_m']-df['amd_m']\n",
    "\n",
    "df.head()"
   ]
  },
  {
   "cell_type": "code",
   "execution_count": 4,
   "metadata": {},
   "outputs": [
    {
     "data": {
      "text/html": [
       "<div>\n",
       "<style scoped>\n",
       "    .dataframe tbody tr th:only-of-type {\n",
       "        vertical-align: middle;\n",
       "    }\n",
       "\n",
       "    .dataframe tbody tr th {\n",
       "        vertical-align: top;\n",
       "    }\n",
       "\n",
       "    .dataframe thead th {\n",
       "        text-align: right;\n",
       "    }\n",
       "</style>\n",
       "<table border=\"1\" class=\"dataframe\">\n",
       "  <thead>\n",
       "    <tr style=\"text-align: right;\">\n",
       "      <th></th>\n",
       "      <th>dt</th>\n",
       "      <th>int</th>\n",
       "      <th>amd</th>\n",
       "      <th>int_m</th>\n",
       "      <th>amd_m</th>\n",
       "      <th>diff_w</th>\n",
       "    </tr>\n",
       "  </thead>\n",
       "  <tbody>\n",
       "    <tr>\n",
       "      <th>5211</th>\n",
       "      <td>1999-11-05</td>\n",
       "      <td>82.38</td>\n",
       "      <td>21.25</td>\n",
       "      <td>1628.385056</td>\n",
       "      <td>306.195965</td>\n",
       "      <td>1322.189091</td>\n",
       "    </tr>\n",
       "    <tr>\n",
       "      <th>5212</th>\n",
       "      <td>1999-11-04</td>\n",
       "      <td>81.56</td>\n",
       "      <td>20.63</td>\n",
       "      <td>1612.176319</td>\n",
       "      <td>297.262248</td>\n",
       "      <td>1314.914072</td>\n",
       "    </tr>\n",
       "    <tr>\n",
       "      <th>5213</th>\n",
       "      <td>1999-11-03</td>\n",
       "      <td>79.75</td>\n",
       "      <td>21.31</td>\n",
       "      <td>1576.398498</td>\n",
       "      <td>307.060519</td>\n",
       "      <td>1269.337979</td>\n",
       "    </tr>\n",
       "    <tr>\n",
       "      <th>5214</th>\n",
       "      <td>1999-11-02</td>\n",
       "      <td>77.50</td>\n",
       "      <td>20.56</td>\n",
       "      <td>1531.923305</td>\n",
       "      <td>296.253602</td>\n",
       "      <td>1235.669703</td>\n",
       "    </tr>\n",
       "    <tr>\n",
       "      <th>5215</th>\n",
       "      <td>1999-11-01</td>\n",
       "      <td>76.00</td>\n",
       "      <td>20.31</td>\n",
       "      <td>1502.273177</td>\n",
       "      <td>292.651297</td>\n",
       "      <td>1209.621880</td>\n",
       "    </tr>\n",
       "  </tbody>\n",
       "</table>\n",
       "</div>"
      ],
      "text/plain": [
       "              dt    int    amd        int_m       amd_m       diff_w\n",
       "5211  1999-11-05  82.38  21.25  1628.385056  306.195965  1322.189091\n",
       "5212  1999-11-04  81.56  20.63  1612.176319  297.262248  1314.914072\n",
       "5213  1999-11-03  79.75  21.31  1576.398498  307.060519  1269.337979\n",
       "5214  1999-11-02  77.50  20.56  1531.923305  296.253602  1235.669703\n",
       "5215  1999-11-01  76.00  20.31  1502.273177  292.651297  1209.621880"
      ]
     },
     "execution_count": 4,
     "metadata": {},
     "output_type": "execute_result"
    }
   ],
   "source": [
    "df.tail()"
   ]
  },
  {
   "cell_type": "code",
   "execution_count": 5,
   "metadata": {},
   "outputs": [
    {
     "data": {
      "text/plain": [
       "<matplotlib.axes._subplots.AxesSubplot at 0x7f0221aa3e50>"
      ]
     },
     "execution_count": 5,
     "metadata": {},
     "output_type": "execute_result"
    },
    {
     "data": {
      "image/png": "[encoded data removed]",
      "text/plain": [
       "<Figure size 432x288 with 1 Axes>"
      ]
     },
     "metadata": {
      "needs_background": "light"
     },
     "output_type": "display_data"
    }
   ],
   "source": [
    "df[['diff_w']].plot(grid=True)"
   ]
  },
  {
   "cell_type": "code",
   "execution_count": 6,
   "metadata": {},
   "outputs": [
    {
     "data": {
      "text/plain": [
       "<matplotlib.axes._subplots.AxesSubplot at 0x7f02208c29d0>"
      ]
     },
     "execution_count": 6,
     "metadata": {},
     "output_type": "execute_result"
    },
    {
     "data": {
      "image/png": "[encoded data removed]",
      "text/plain": [
       "<Figure size 432x288 with 1 Axes>"
      ]
     },
     "metadata": {
      "needs_background": "light"
     },
     "output_type": "display_data"
    }
   ],
   "source": [
    "df[['int','amd']].plot(grid=True)"
   ]
  },
  {
   "cell_type": "code",
   "execution_count": null,
   "metadata": {},
   "outputs": [],
   "source": []
  }
 ],
 "metadata": {
  "kernelspec": {
   "display_name": "Python 3",
   "language": "python",
   "name": "python3"
  },
  "language_info": {
   "codemirror_mode": {
    "name": "ipython",
    "version": 3
   },
   "file_extension": ".py",
   "mimetype": "text/x-python",
   "name": "python",
   "nbconvert_exporter": "python",
   "pygments_lexer": "ipython3",
   "version": "3.7.6"
  }
 },
 "nbformat": 4,
 "nbformat_minor": 4
}
