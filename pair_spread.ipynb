{
 "cells": [
  {
   "cell_type": "code",
   "execution_count": 1,
   "metadata": {},
   "outputs": [],
   "source": [
    "import requests\n",
    "import os\n",
    "def get_qts(sym):\n",
    "    #print(os.environ)\n",
    "    api_key=os.environ['alphavantage_key']\n",
    "    p = {\"http\":\"http://127.0.0.1:8118\", \"https\": \"http://127.0.0.1:8118\",}\n",
    "    url=\"https://www.alphavantage.co/query?function=TIME_SERIES_DAILY&symbol={}&outputsize=full&apikey={}\".format(sym, api_key)\n",
    "    r = requests.get(url, proxies=p)\n",
    "    d=r.json()\n",
    "    return d\n",
    "    \n",
    "intel=get_qts(\"INTC\")\n",
    "amd=get_qts(\"AMD\")"
   ]
  },
  {
   "cell_type": "code",
   "execution_count": 2,
   "metadata": {},
   "outputs": [
    {
     "name": "stdout",
     "output_type": "stream",
     "text": [
      "5216 5216 True\n"
     ]
    }
   ],
   "source": [
    "int_ts=intel['Time Series (Daily)']\n",
    "amd_ts=amd['Time Series (Daily)']\n",
    "\n",
    "keys_list_amd=[]\n",
    "keys_list_intl=[]\n",
    "\n",
    "for key in int_ts.keys(): keys_list_intl.append(key)\n",
    "for key in amd_ts.keys(): keys_list_amd.append(key)\n",
    "print(len(keys_list_amd), len(keys_list_intl), keys_list_amd==keys_list_intl)\n",
    "arr=[]\n",
    "for key in keys_list_amd:\n",
    "    rec= [key, int_ts[key]['4. close'], amd_ts[key]['4. close']]\n",
    "    arr.append(rec)"
   ]
  },
  {
   "cell_type": "code",
   "execution_count": 15,
   "metadata": {},
   "outputs": [
    {
     "data": {
      "text/html": [
       "<div>\n",
       "<style scoped>\n",
       "    .dataframe tbody tr th:only-of-type {\n",
       "        vertical-align: middle;\n",
       "    }\n",
       "\n",
       "    .dataframe tbody tr th {\n",
       "        vertical-align: top;\n",
       "    }\n",
       "\n",
       "    .dataframe thead th {\n",
       "        text-align: right;\n",
       "    }\n",
       "</style>\n",
       "<table border=\"1\" class=\"dataframe\">\n",
       "  <thead>\n",
       "    <tr style=\"text-align: right;\">\n",
       "      <th></th>\n",
       "      <th>dt</th>\n",
       "      <th>int</th>\n",
       "      <th>amd</th>\n",
       "      <th>int_m</th>\n",
       "      <th>amd_m</th>\n",
       "      <th>diff_w</th>\n",
       "    </tr>\n",
       "  </thead>\n",
       "  <tbody>\n",
       "    <tr>\n",
       "      <th>5215</th>\n",
       "      <td>1999-11-01</td>\n",
       "      <td>76.00</td>\n",
       "      <td>20.31</td>\n",
       "      <td>1000.000000</td>\n",
       "      <td>1000.000000</td>\n",
       "      <td>1.136868e-13</td>\n",
       "    </tr>\n",
       "    <tr>\n",
       "      <th>5214</th>\n",
       "      <td>1999-11-02</td>\n",
       "      <td>77.50</td>\n",
       "      <td>20.56</td>\n",
       "      <td>1019.736842</td>\n",
       "      <td>1012.309207</td>\n",
       "      <td>-7.427635e+00</td>\n",
       "    </tr>\n",
       "    <tr>\n",
       "      <th>5213</th>\n",
       "      <td>1999-11-03</td>\n",
       "      <td>79.75</td>\n",
       "      <td>21.31</td>\n",
       "      <td>1049.342105</td>\n",
       "      <td>1049.236829</td>\n",
       "      <td>-1.052761e-01</td>\n",
       "    </tr>\n",
       "    <tr>\n",
       "      <th>5212</th>\n",
       "      <td>1999-11-04</td>\n",
       "      <td>81.56</td>\n",
       "      <td>20.63</td>\n",
       "      <td>1073.157895</td>\n",
       "      <td>1015.755785</td>\n",
       "      <td>-5.740211e+01</td>\n",
       "    </tr>\n",
       "    <tr>\n",
       "      <th>5211</th>\n",
       "      <td>1999-11-05</td>\n",
       "      <td>82.38</td>\n",
       "      <td>21.25</td>\n",
       "      <td>1083.947368</td>\n",
       "      <td>1046.282619</td>\n",
       "      <td>-3.766475e+01</td>\n",
       "    </tr>\n",
       "  </tbody>\n",
       "</table>\n",
       "</div>"
      ],
      "text/plain": [
       "              dt    int    amd        int_m        amd_m        diff_w\n",
       "5215  1999-11-01  76.00  20.31  1000.000000  1000.000000  1.136868e-13\n",
       "5214  1999-11-02  77.50  20.56  1019.736842  1012.309207 -7.427635e+00\n",
       "5213  1999-11-03  79.75  21.31  1049.342105  1049.236829 -1.052761e-01\n",
       "5212  1999-11-04  81.56  20.63  1073.157895  1015.755785 -5.740211e+01\n",
       "5211  1999-11-05  82.38  21.25  1083.947368  1046.282619 -3.766475e+01"
      ]
     },
     "execution_count": 15,
     "metadata": {},
     "output_type": "execute_result"
    }
   ],
   "source": [
    "import pandas as pd\n",
    "\n",
    "df=pd.DataFrame(arr)\n",
    "df.columns=['dt','int','amd']\n",
    "df=df.astype({'dt':str, \"int\": float, \"amd\": float})\n",
    "df=df.sort_values(by='dt',ascending=True)\n",
    "init_st=df.iloc[0]\n",
    "\n",
    "int_q=1000/init_st['int']\n",
    "amd_q=1000/init_st['amd']\n",
    "\n",
    "\n",
    "df['int_m']=df['int']*int_q\n",
    "df['amd_m']=df['amd']*amd_q\n",
    "df['diff_w']=df['amd_m']-df['int_m']\n",
    "df.reset_\n",
    "df.head()"
   ]
  },
  {
   "cell_type": "code",
   "execution_count": 16,
   "metadata": {},
   "outputs": [
    {
     "data": {
      "text/html": [
       "<div>\n",
       "<style scoped>\n",
       "    .dataframe tbody tr th:only-of-type {\n",
       "        vertical-align: middle;\n",
       "    }\n",
       "\n",
       "    .dataframe tbody tr th {\n",
       "        vertical-align: top;\n",
       "    }\n",
       "\n",
       "    .dataframe thead th {\n",
       "        text-align: right;\n",
       "    }\n",
       "</style>\n",
       "<table border=\"1\" class=\"dataframe\">\n",
       "  <thead>\n",
       "    <tr style=\"text-align: right;\">\n",
       "      <th></th>\n",
       "      <th>dt</th>\n",
       "      <th>int</th>\n",
       "      <th>amd</th>\n",
       "      <th>int_m</th>\n",
       "      <th>amd_m</th>\n",
       "      <th>diff_w</th>\n",
       "    </tr>\n",
       "  </thead>\n",
       "  <tbody>\n",
       "    <tr>\n",
       "      <th>4</th>\n",
       "      <td>2020-07-20</td>\n",
       "      <td>61.15</td>\n",
       "      <td>57.46</td>\n",
       "      <td>804.605263</td>\n",
       "      <td>2829.148203</td>\n",
       "      <td>2024.542940</td>\n",
       "    </tr>\n",
       "    <tr>\n",
       "      <th>3</th>\n",
       "      <td>2020-07-21</td>\n",
       "      <td>60.70</td>\n",
       "      <td>57.00</td>\n",
       "      <td>798.684211</td>\n",
       "      <td>2806.499261</td>\n",
       "      <td>2007.815051</td>\n",
       "    </tr>\n",
       "    <tr>\n",
       "      <th>2</th>\n",
       "      <td>2020-07-22</td>\n",
       "      <td>61.05</td>\n",
       "      <td>61.79</td>\n",
       "      <td>803.289474</td>\n",
       "      <td>3042.343673</td>\n",
       "      <td>2239.054199</td>\n",
       "    </tr>\n",
       "    <tr>\n",
       "      <th>1</th>\n",
       "      <td>2020-07-23</td>\n",
       "      <td>60.40</td>\n",
       "      <td>59.57</td>\n",
       "      <td>794.736842</td>\n",
       "      <td>2933.037912</td>\n",
       "      <td>2138.301070</td>\n",
       "    </tr>\n",
       "    <tr>\n",
       "      <th>0</th>\n",
       "      <td>2020-07-24</td>\n",
       "      <td>50.59</td>\n",
       "      <td>69.40</td>\n",
       "      <td>665.657895</td>\n",
       "      <td>3417.035943</td>\n",
       "      <td>2751.378048</td>\n",
       "    </tr>\n",
       "  </tbody>\n",
       "</table>\n",
       "</div>"
      ],
      "text/plain": [
       "           dt    int    amd       int_m        amd_m       diff_w\n",
       "4  2020-07-20  61.15  57.46  804.605263  2829.148203  2024.542940\n",
       "3  2020-07-21  60.70  57.00  798.684211  2806.499261  2007.815051\n",
       "2  2020-07-22  61.05  61.79  803.289474  3042.343673  2239.054199\n",
       "1  2020-07-23  60.40  59.57  794.736842  2933.037912  2138.301070\n",
       "0  2020-07-24  50.59  69.40  665.657895  3417.035943  2751.378048"
      ]
     },
     "execution_count": 16,
     "metadata": {},
     "output_type": "execute_result"
    }
   ],
   "source": [
    "df.tail()"
   ]
  },
  {
   "cell_type": "code",
   "execution_count": 17,
   "metadata": {},
   "outputs": [
    {
     "data": {
      "text/plain": [
       "<matplotlib.axes._subplots.AxesSubplot at 0x7f02204d6f50>"
      ]
     },
     "execution_count": 17,
     "metadata": {},
     "output_type": "execute_result"
    },
    {
     "data": {
      "image/png": "[encoded data removed]",
      "text/plain": [
       "<Figure size 432x288 with 1 Axes>"
      ]
     },
     "metadata": {
      "needs_background": "light"
     },
     "output_type": "display_data"
    }
   ],
   "source": [
    "df[['diff_w']].plot(grid=True)"
   ]
  },
  {
   "cell_type": "code",
   "execution_count": 18,
   "metadata": {},
   "outputs": [
    {
     "data": {
      "text/plain": [
       "<matplotlib.axes._subplots.AxesSubplot at 0x7f02204d6690>"
      ]
     },
     "execution_count": 18,
     "metadata": {},
     "output_type": "execute_result"
    },
    {
     "data": {
      "image/png": "[encoded data removed]",
      "text/plain": [
       "<Figure size 432x288 with 1 Axes>"
      ]
     },
     "metadata": {
      "needs_background": "light"
     },
     "output_type": "display_data"
    }
   ],
   "source": [
    "df[['int','amd']].plot(grid=True)"
   ]
  },
  {
   "cell_type": "code",
   "execution_count": null,
   "metadata": {},
   "outputs": [],
   "source": []
  }
 ],
 "metadata": {
  "kernelspec": {
   "display_name": "Python 3",
   "language": "python",
   "name": "python3"
  },
  "language_info": {
   "codemirror_mode": {
    "name": "ipython",
    "version": 3
   },
   "file_extension": ".py",
   "mimetype": "text/x-python",
   "name": "python",
   "nbconvert_exporter": "python",
   "pygments_lexer": "ipython3",
   "version": "3.7.6"
  }
 },
 "nbformat": 4,
 "nbformat_minor": 4
}
